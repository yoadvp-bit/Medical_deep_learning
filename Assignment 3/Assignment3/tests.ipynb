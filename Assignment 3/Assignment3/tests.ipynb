{
 "cells": [
  {
   "cell_type": "code",
   "execution_count": 1,
   "metadata": {},
   "outputs": [
    {
     "name": "stderr",
     "output_type": "stream",
     "text": [
      "c:\\Users\\jonas\\code\\Medical_deep_learning\\Assignment 3\\Assignment3\\fastmri\\__init__.py:16: UserWarning: Could not retrieve fastmri version!\n",
      "  warnings.warn(\"Could not retrieve fastmri version!\")\n",
      "usage: ipykernel_launcher.py [-h] [--mode {train,test}]\n",
      "                             [--mask_type {random,equispaced_fraction}]\n",
      "                             [--center_fractions CENTER_FRACTIONS [CENTER_FRACTIONS ...]]\n",
      "                             [--accelerations ACCELERATIONS [ACCELERATIONS ...]]\n",
      "                             [--experiment_name EXPERIMENT_NAME]\n",
      "                             [--learning_rate LEARNING_RATE]\n",
      "                             [--num_epochs NUM_EPOCHS] [--data_path DATA_PATH]\n",
      "                             [--test_path TEST_PATH]\n",
      "                             [--challenge {singlecoil,multicoil}]\n",
      "                             [--test_split {val,test,challenge}]\n",
      "                             [--sample_rate SAMPLE_RATE]\n",
      "                             [--val_sample_rate VAL_SAMPLE_RATE]\n",
      "                             [--test_sample_rate TEST_SAMPLE_RATE]\n",
      "                             [--volume_sample_rate VOLUME_SAMPLE_RATE]\n",
      "                             [--val_volume_sample_rate VAL_VOLUME_SAMPLE_RATE]\n",
      "                             [--test_volume_sample_rate TEST_VOLUME_SAMPLE_RATE]\n",
      "                             [--use_dataset_cache_file USE_DATASET_CACHE_FILE]\n",
      "                             [--combine_train_val COMBINE_TRAIN_VAL]\n",
      "                             [--batch_size BATCH_SIZE]\n",
      "                             [--num_workers NUM_WORKERS]\n",
      "ipykernel_launcher.py: error: unrecognized arguments: --f=c:\\Users\\jonas\\AppData\\Roaming\\jupyter\\runtime\\kernel-v3f4d509ed08263fe0279de0c65655f41572ec4a9b.json\n"
     ]
    },
    {
     "ename": "SystemExit",
     "evalue": "2",
     "output_type": "error",
     "traceback": [
      "An exception has occurred, use %tb to see the full traceback.\n",
      "\u001b[1;31mSystemExit\u001b[0m\u001b[1;31m:\u001b[0m 2\n"
     ]
    },
    {
     "name": "stderr",
     "output_type": "stream",
     "text": [
      "c:\\Users\\jonas\\code\\Medical_deep_learning\\.venv\\Lib\\site-packages\\IPython\\core\\interactiveshell.py:3587: UserWarning: To exit: use 'exit', 'quit', or Ctrl-D.\n",
      "  warn(\"To exit: use 'exit', 'quit', or Ctrl-D.\", stacklevel=1)\n"
     ]
    }
   ],
   "source": [
    "\"\"\"\n",
    "Copyright (c) Facebook, Inc. and its affiliates.\n",
    "This source code is licensed under the MIT license found in the\n",
    "LICENSE file in the root directory of this source tree.\n",
    "\"\"\"\n",
    "\n",
    "# import os\n",
    "# import pathlib\n",
    "# from argparse import ArgumentParser\n",
    "# import pytorch_lightning as pl\n",
    "\n",
    "# from fastmri.data.mri_data import fetch_dir\n",
    "from fastmri.data.subsample import create_mask_for_mask_type\n",
    "# from fastmri.data.transforms import VarNetDataTransform\n",
    "# from fastmri.pl_modules import FastMriDataModule, VarNetModule\n",
    "import time\n",
    "\n",
    "import wandb\n",
    "# from pytorch_lightning.loggers import WandbLogger\n",
    "from train_VarNet import build_args\n",
    "\n",
    "\n",
    "args = build_args()\n",
    "\n",
    "# data\n",
    "# ------------\n",
    "# this creates a k-space mask for transforming input data\n",
    "mask = create_mask_for_mask_type(\n",
    "    args.mask_type, args.center_fractions, args.accelerations\n",
    ")"
   ]
  },
  {
   "cell_type": "code",
   "execution_count": null,
   "metadata": {},
   "outputs": [],
   "source": [
    "import matplotlib.pyplot as plt"
   ]
  }
 ],
 "metadata": {
  "kernelspec": {
   "display_name": ".venv",
   "language": "python",
   "name": "python3"
  },
  "language_info": {
   "codemirror_mode": {
    "name": "ipython",
    "version": 3
   },
   "file_extension": ".py",
   "mimetype": "text/x-python",
   "name": "python",
   "nbconvert_exporter": "python",
   "pygments_lexer": "ipython3",
   "version": "3.11.7"
  }
 },
 "nbformat": 4,
 "nbformat_minor": 2
}
